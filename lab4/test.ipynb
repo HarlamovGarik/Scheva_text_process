{
 "cells": [
  {
   "cell_type": "code",
   "id": "initial_id",
   "metadata": {
    "collapsed": true,
    "ExecuteTime": {
     "end_time": "2024-11-26T11:58:42.287016Z",
     "start_time": "2024-11-26T11:58:41.818233Z"
    }
   },
   "source": [
    "from google_play_scraper import app, search\n",
    "import re\n",
    "import pandas as pd"
   ],
   "outputs": [],
   "execution_count": 5
  },
  {
   "metadata": {
    "ExecuteTime": {
     "end_time": "2024-11-26T11:58:43.162003Z",
     "start_time": "2024-11-26T11:58:43.159163Z"
    }
   },
   "cell_type": "code",
   "source": [
    "def get_app_id(app_name_or_url):\n",
    "    # Якщо це URL, витягуємо app ID\n",
    "    match = re.search(r'id=([\\w\\.]+)', app_name_or_url)\n",
    "    if match:\n",
    "        return match.group(1)\n",
    "    else:\n",
    "        # Використовуємо пошук для знаходження застосунку за назвою\n",
    "        results = search(app_name_or_url, lang='en', country='us', n=1)\n",
    "        if results:\n",
    "            return results[0]['appId']\n",
    "        else:\n",
    "            print(\"Застосунок не знайдено.\")\n",
    "            return None"
   ],
   "id": "4a6125fdfce46f72",
   "outputs": [],
   "execution_count": 6
  },
  {
   "metadata": {
    "ExecuteTime": {
     "end_time": "2024-11-26T11:58:44.848633Z",
     "start_time": "2024-11-26T11:58:44.835677Z"
    }
   },
   "cell_type": "code",
   "source": [
    "def get_price_info(app_id, regions):\n",
    "    price_info = []\n",
    "    for region in regions:\n",
    "        try:\n",
    "            result = app(\n",
    "                app_id,\n",
    "                lang='en',\n",
    "                country=region\n",
    "            )\n",
    "            region_code = region.upper()\n",
    "            currency = result.get('currency', 'N/A')\n",
    "            price = result.get('price', 'N/A')\n",
    "            inAppProductPrice = result.get('inAppProductPrice', 'N/A')\n",
    "            price_info.append({\n",
    "                'Region Code': region_code,\n",
    "                'Currency': currency,\n",
    "                'in App Product Price': inAppProductPrice,\n",
    "                'Current Price': price\n",
    "            })\n",
    "        except Exception as e:\n",
    "            print(f\"Помилка при отриманні даних для регіону {region}: {e}\")\n",
    "    return price_info"
   ],
   "id": "babef1a0c5df0c9a",
   "outputs": [],
   "execution_count": 7
  },
  {
   "metadata": {
    "ExecuteTime": {
     "end_time": "2024-11-26T12:01:19.543859Z",
     "start_time": "2024-11-26T12:01:19.538876Z"
    }
   },
   "cell_type": "code",
   "source": [
    "def main():\n",
    "    app_name_or_url = input(\"Введіть назву застосунку або URL з Google Play Store: \")\n",
    "    app_id = get_app_id(app_name_or_url)\n",
    "    if app_id:\n",
    "        regions = [\n",
    "            'AR', 'AU', 'AT', 'BH', 'BY', 'BE', 'BO', 'BR', 'CA', 'CL', 'CO', 'CR', 'CZ', 'DK', 'DO', 'EC', 'EG', 'SV',\n",
    "            'EE', 'FI', 'FR', 'DE', 'GR', 'GT', 'HN', 'HK', 'HU', 'IN', 'ID', 'IE', 'IT', 'JP', 'JO', 'KZ', 'KW', 'KG',\n",
    "            'LV', 'LB', 'LT', 'LU', 'MY', 'MX', 'NL', 'NZ', 'NI', 'NO', 'OM', 'PA', 'PY', 'PE', 'PH', 'PL', 'PT', 'QA',\n",
    "            'RO', 'RU', 'SA', 'SG', 'SK', 'ZA', 'KR', 'ES', 'SE', 'CH', 'TW', 'TH', 'TR', 'UA', 'AE', 'GB', 'US', 'UY',\n",
    "            'UZ', 'VE', 'VN'\n",
    "        ]\n",
    "        price_info = get_price_info(app_id, regions)\n",
    "        df = pd.DataFrame(price_info)\n",
    "        return df"
   ],
   "id": "9d0f6c4ba3ae2ad7",
   "outputs": [],
   "execution_count": 10
  },
  {
   "metadata": {
    "ExecuteTime": {
     "end_time": "2024-11-26T12:01:52.566022Z",
     "start_time": "2024-11-26T12:01:20.077543Z"
    }
   },
   "cell_type": "code",
   "source": [
    "df = main()\n",
    "df"
   ],
   "id": "66b9e0b70fbcf896",
   "outputs": [
    {
     "data": {
      "text/plain": [
       "   Region Code Currency in App Product Price  Current Price\n",
       "0           AR      USD                 None          14.99\n",
       "1           AU      AUD                 None          20.99\n",
       "2           AT      EUR                 None          14.99\n",
       "3           BH      USD                 None          15.99\n",
       "4           BY      USD                 None          14.99\n",
       "..         ...      ...                  ...            ...\n",
       "70          US      USD                 None          14.99\n",
       "71          UY      USD                 None          14.99\n",
       "72          UZ      USD                 None          14.99\n",
       "73          VE      USD                 None          14.99\n",
       "74          VN      VND                 None      346000.00\n",
       "\n",
       "[75 rows x 4 columns]"
      ],
      "text/html": [
       "<div>\n",
       "<style scoped>\n",
       "    .dataframe tbody tr th:only-of-type {\n",
       "        vertical-align: middle;\n",
       "    }\n",
       "\n",
       "    .dataframe tbody tr th {\n",
       "        vertical-align: top;\n",
       "    }\n",
       "\n",
       "    .dataframe thead th {\n",
       "        text-align: right;\n",
       "    }\n",
       "</style>\n",
       "<table border=\"1\" class=\"dataframe\">\n",
       "  <thead>\n",
       "    <tr style=\"text-align: right;\">\n",
       "      <th></th>\n",
       "      <th>Region Code</th>\n",
       "      <th>Currency</th>\n",
       "      <th>in App Product Price</th>\n",
       "      <th>Current Price</th>\n",
       "    </tr>\n",
       "  </thead>\n",
       "  <tbody>\n",
       "    <tr>\n",
       "      <th>0</th>\n",
       "      <td>AR</td>\n",
       "      <td>USD</td>\n",
       "      <td>None</td>\n",
       "      <td>14.99</td>\n",
       "    </tr>\n",
       "    <tr>\n",
       "      <th>1</th>\n",
       "      <td>AU</td>\n",
       "      <td>AUD</td>\n",
       "      <td>None</td>\n",
       "      <td>20.99</td>\n",
       "    </tr>\n",
       "    <tr>\n",
       "      <th>2</th>\n",
       "      <td>AT</td>\n",
       "      <td>EUR</td>\n",
       "      <td>None</td>\n",
       "      <td>14.99</td>\n",
       "    </tr>\n",
       "    <tr>\n",
       "      <th>3</th>\n",
       "      <td>BH</td>\n",
       "      <td>USD</td>\n",
       "      <td>None</td>\n",
       "      <td>15.99</td>\n",
       "    </tr>\n",
       "    <tr>\n",
       "      <th>4</th>\n",
       "      <td>BY</td>\n",
       "      <td>USD</td>\n",
       "      <td>None</td>\n",
       "      <td>14.99</td>\n",
       "    </tr>\n",
       "    <tr>\n",
       "      <th>...</th>\n",
       "      <td>...</td>\n",
       "      <td>...</td>\n",
       "      <td>...</td>\n",
       "      <td>...</td>\n",
       "    </tr>\n",
       "    <tr>\n",
       "      <th>70</th>\n",
       "      <td>US</td>\n",
       "      <td>USD</td>\n",
       "      <td>None</td>\n",
       "      <td>14.99</td>\n",
       "    </tr>\n",
       "    <tr>\n",
       "      <th>71</th>\n",
       "      <td>UY</td>\n",
       "      <td>USD</td>\n",
       "      <td>None</td>\n",
       "      <td>14.99</td>\n",
       "    </tr>\n",
       "    <tr>\n",
       "      <th>72</th>\n",
       "      <td>UZ</td>\n",
       "      <td>USD</td>\n",
       "      <td>None</td>\n",
       "      <td>14.99</td>\n",
       "    </tr>\n",
       "    <tr>\n",
       "      <th>73</th>\n",
       "      <td>VE</td>\n",
       "      <td>USD</td>\n",
       "      <td>None</td>\n",
       "      <td>14.99</td>\n",
       "    </tr>\n",
       "    <tr>\n",
       "      <th>74</th>\n",
       "      <td>VN</td>\n",
       "      <td>VND</td>\n",
       "      <td>None</td>\n",
       "      <td>346000.00</td>\n",
       "    </tr>\n",
       "  </tbody>\n",
       "</table>\n",
       "<p>75 rows × 4 columns</p>\n",
       "</div>"
      ]
     },
     "execution_count": 11,
     "metadata": {},
     "output_type": "execute_result"
    }
   ],
   "execution_count": 11
  },
  {
   "metadata": {},
   "cell_type": "code",
   "outputs": [],
   "execution_count": null,
   "source": "",
   "id": "4a4ffad3c7fc50b9"
  }
 ],
 "metadata": {
  "kernelspec": {
   "display_name": "Python 3",
   "language": "python",
   "name": "python3"
  },
  "language_info": {
   "codemirror_mode": {
    "name": "ipython",
    "version": 2
   },
   "file_extension": ".py",
   "mimetype": "text/x-python",
   "name": "python",
   "nbconvert_exporter": "python",
   "pygments_lexer": "ipython2",
   "version": "2.7.6"
  }
 },
 "nbformat": 4,
 "nbformat_minor": 5
}
